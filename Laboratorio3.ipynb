{
 "cells": [
  {
   "cell_type": "markdown",
   "metadata": {},
   "source": [
    "# LABORATORIO 3\n",
    "\n",
    "## Integrantes\n",
    "\n",
    "### INTEGRANTES DEL EQUIPO\n",
    "* MARIA PAULA MOGOLLON\n",
    "* SERGIO NICOLAS QUINTERO\n",
    "* LIDA VIVIANA PINEDA\n",
    "* CRISTIAN CAMILO CARDENAS RODRIGUEZ"
   ]
  },
  {
   "cell_type": "markdown",
   "metadata": {},
   "source": [
    "#### OBJETIVOS QUE ESPERAMOS ALCANZAR EN ESTE ANALISIS\n",
    "\n",
    "* Tasa de Registro por Género: Porcentaje de registros por género.\n",
    "Fórmula: (Número de registros de un género específico / Total de registros) * 100  \n",
    "    * Diagrama de pastel\n",
    "\n",
    "* Distribución demográfica por género: Porcentaje de individuos identificados como masculinos, femeninos u otros.\n",
    "    * Mapa de violin\n",
    "  \n",
    "* Tasa de registro por nivel educativo: Porcentaje de registros agrupados por nivel educativo.\n",
    "    * Diagrama de pastel\n",
    "  \n",
    "* Kpi relacionando nivel educativo y genero\n",
    "    * Diagrama de barras\n",
    "  \n",
    "* Kpi relacionar, violencia con Lgbti\n",
    "    * Diagrama de dispersion\n",
    "  \n",
    "* Kpi Servidores publicos que tomaron el curso\n",
    "    * Diagrama de pastel\n",
    "  \n",
    "* Kpi nivel educativo y la columna tipo\n",
    "    * \n",
    "  \n",
    "* Kpi, comunidad oportunidades para las comunidades indigenas\n",
    "    * \n",
    "\n",
    "* Kpi personas con discapacidad visual y su ocupación\n",
    "    * \n",
    "* Kpi Discapacidad por genero\n",
    "    * Matriz de correlacion\n"
   ]
  },
  {
   "cell_type": "code",
   "execution_count": null,
   "metadata": {},
   "outputs": [],
   "source": []
  }
 ],
 "metadata": {
  "language_info": {
   "name": "python"
  }
 },
 "nbformat": 4,
 "nbformat_minor": 2
}
