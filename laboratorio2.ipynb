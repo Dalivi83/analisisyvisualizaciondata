{
 "cells": [
  {
   "cell_type": "markdown",
   "metadata": {},
   "source": [
    "## LABORATORIO 2 - GRUPO 6\n",
    "# CIUDADANIA DIGITAL\n",
    "> La ciudadanía digital es el espacio donde es posible aprender, certificarse y entrar en contacto con otras personas interesadas en transformar digital y productivamente sus vidas.\n",
    "### INTEGRANTES DEL EQUIPO\n",
    "* MARIA PAULA MOGOLLON\n",
    "* SERGIO NICOLAS QUINTERO\n",
    "* LIDA VIVIANA PINEDA\n"
   ]
  },
  {
   "cell_type": "markdown",
   "metadata": {},
   "source": [
    "> Para el ejercio vamos a utilizar la fuente de ***gov.co*** que se llama *Ciudadania Digital*\n",
    "> Enlace: https://www.datos.gov.co/Ciencia-Tecnolog-a-e-Innovaci-n/Ciudadan-a-Digital/g4cd-bvpd/about_data"
   ]
  },
  {
   "cell_type": "code",
   "execution_count": 1,
   "metadata": {},
   "outputs": [],
   "source": [
    "# Importar librerias\n",
    "import os\n",
    "import altair as alt\n",
    "import pandas as pd\n",
    "import numpy as np\n",
    "import seaborn as sns\n",
    "import matplotlib.pyplot as plt\n",
    "import pyodbc\n",
    "import warnings\n",
    "import sqlite3\n",
    "\n"
   ]
  },
  {
   "cell_type": "markdown",
   "metadata": {},
   "source": [
    "<pre>Se realiza la generación del data set para _Ciudadania Digital_ para iniciar la validación de la información</pre>"
   ]
  },
  {
   "cell_type": "code",
   "execution_count": 2,
   "metadata": {},
   "outputs": [
    {
     "name": "stderr",
     "output_type": "stream",
     "text": [
      "C:\\Users\\User\\AppData\\Local\\Temp\\ipykernel_25420\\2562203358.py:3: DtypeWarning: Columns (3,7,8,20,26,37) have mixed types. Specify dtype option on import or set low_memory=False.\n",
      "  df_Ciudadania_digital = pd.read_csv('C:/Users/User/Documents/ejercicios python/Laboratorio2/data/Ciudadan_a_Digital_20240418.csv')\n"
     ]
    },
    {
     "name": "stdout",
     "output_type": "stream",
     "text": [
      "El dataset se cargó exitosamente.\n"
     ]
    }
   ],
   "source": [
    "try:\n",
    "    # Leer el archivo CSV ubicado en la ruta especificada y asigna los datos a la variable df_resultados\n",
    "    df_Ciudadania_digital = pd.read_csv('C:/Users/User/Documents/ejercicios python/Laboratorio2/data/Ciudadan_a_Digital_20240418.csv')\n",
    "\n",
    "    # Si la lectura del archivo es exitosa, imprime un mensaje indicando que el dataset se cargó correctamente\n",
    "    print(\"El dataset se cargó exitosamente.\")\n",
    "\n",
    "# Si se produce un error específico de \"FileNotFoundError\" (archivo no encontrado), ejecuta este bloque de código\n",
    "except FileNotFoundError as e:\n",
    "    \n",
    "    # Imprime un mensaje de error personalizado indicando que el archivo no se pudo encontrar, junto con los detalles específicos del error\n",
    "    print(f\"Error: El archivo no se pudo encontrar. Detalles: {e}\")\n",
    "\n",
    "# Si se produce cualquier otro tipo de error, ejecuta este bloque de código\n",
    "except Exception as e:\n",
    "    \n",
    "    # Imprime un mensaje de error genérico indicando que ocurrió un error inesperado, junto con los detalles específicos del error\n",
    "    print(f\"Error inesperado: {e}\")"
   ]
  }
 ],
 "metadata": {
  "kernelspec": {
   "display_name": "Python 3",
   "language": "python",
   "name": "python3"
  },
  "language_info": {
   "codemirror_mode": {
    "name": "ipython",
    "version": 3
   },
   "file_extension": ".py",
   "mimetype": "text/x-python",
   "name": "python",
   "nbconvert_exporter": "python",
   "pygments_lexer": "ipython3",
   "version": "3.12.2"
  }
 },
 "nbformat": 4,
 "nbformat_minor": 2
}
