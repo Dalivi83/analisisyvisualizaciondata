{
 "cells": [
  {
   "cell_type": "markdown",
   "metadata": {},
   "source": [
    "## LABORATORIO 2 - GRUPO 6\n",
    "# CIUDADANIA DIGITAL\n",
    "> La ciudadanía digital es el espacio donde es posible aprender, certificarse y entrar en contacto con otras personas interesadas en transformar digital y productivamente sus vidas.\n",
    "### INTEGRANTES DEL EQUIPO\n",
    "* MARIA PAULA MOGOLLON\n",
    "* SERGIO NICOLAS QUINTERO\n",
    "* LIDA VIVIANA PINEDA\n"
   ]
  },
  {
   "cell_type": "code",
   "execution_count": null,
   "metadata": {},
   "outputs": [],
   "source": [
    "\n",
    "\n"
   ]
  }
 ],
 "metadata": {
  "language_info": {
   "name": "python"
  }
 },
 "nbformat": 4,
 "nbformat_minor": 2
}
